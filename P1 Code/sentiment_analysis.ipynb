{
 "cells": [
  {
   "cell_type": "markdown",
   "id": "d66da0f8",
   "metadata": {},
   "source": [
    "### Imports"
   ]
  },
  {
   "cell_type": "code",
   "execution_count": 1,
   "id": "5026b659",
   "metadata": {},
   "outputs": [
    {
     "name": "stdout",
     "output_type": "stream",
     "text": [
      "Requirement already satisfied: np in d:\\users\\webthe3rd\\anaconda3\\lib\\site-packages (1.0.2)\n",
      "Requirement already satisfied: textblob in d:\\users\\webthe3rd\\anaconda3\\lib\\site-packages (0.17.1)\n",
      "Requirement already satisfied: nltk>=3.1 in d:\\users\\webthe3rd\\anaconda3\\lib\\site-packages (from textblob) (3.6.5)\n",
      "Requirement already satisfied: click in d:\\users\\webthe3rd\\anaconda3\\lib\\site-packages (from nltk>=3.1->textblob) (8.0.3)\n",
      "Requirement already satisfied: joblib in d:\\users\\webthe3rd\\anaconda3\\lib\\site-packages (from nltk>=3.1->textblob) (1.1.0)\n",
      "Requirement already satisfied: regex>=2021.8.3 in d:\\users\\webthe3rd\\anaconda3\\lib\\site-packages (from nltk>=3.1->textblob) (2021.8.3)\n",
      "Requirement already satisfied: tqdm in d:\\users\\webthe3rd\\anaconda3\\lib\\site-packages (from nltk>=3.1->textblob) (4.62.3)\n",
      "Requirement already satisfied: colorama in d:\\users\\webthe3rd\\anaconda3\\lib\\site-packages (from click->nltk>=3.1->textblob) (0.4.4)\n"
     ]
    }
   ],
   "source": [
    "# Run the below commands if you don't already have Pandas or TextBlob\n",
    "#!pip install np\n",
    "#!pip install textblob\n",
    "\n",
    "import np\n",
    "import re\n",
    "\n",
    "# for handling data\n",
    "import pandas as pd\n",
    "\n",
    "# for graphs\n",
    "import networkx as nx\n",
    "\n",
    "#for sentiment analysis\n",
    "from textblob import TextBlob"
   ]
  },
  {
   "cell_type": "markdown",
   "id": "1a41bb54",
   "metadata": {},
   "source": [
    "Now get the scraped Twitter data from the .csv files"
   ]
  },
  {
   "cell_type": "code",
   "execution_count": 7,
   "id": "eca4be16",
   "metadata": {},
   "outputs": [],
   "source": [
    "files = ['Polkamon_March_April_2021_data', 'Polkamon_May_June_2021_data']"
   ]
  },
  {
   "cell_type": "code",
   "execution_count": 8,
   "id": "62ff0f0d",
   "metadata": {},
   "outputs": [],
   "source": [
    "# calculate the sentiment of each tweet using TextBlob\n",
    "def sentiment_analysis(tweets):\n",
    "    tweets[\"sentiment_score\"] = tweets[\"Text\"].apply(lambda x: TextBlob(str(x)).sentiment.polarity)\n",
    "    tweets[\"sentiment\"] = np.select([tweets[\"sentiment_score\"] < 0,\n",
    "                                     tweets[\"sentiment_score\"] == 0,\n",
    "                                     tweets[\"sentiment_score\"] > 0],\n",
    "                                    ['neg', 'neu', 'pos'])\n",
    "    aggregated = tweets[[\"Username\", \"sentiment_score\"]].groupby(\"Username\").agg(sentiment_sum=('sentiment_score', 'sum'),\n",
    "                                                                                 tweet_count=('Username', 'count'))\n",
    "    return tweets, aggregated"
   ]
  },
  {
   "cell_type": "code",
   "execution_count": 9,
   "id": "b3858bd2",
   "metadata": {},
   "outputs": [],
   "source": [
    "# extract user mentions from tweet text\n",
    "def get_mentions(tweets):\n",
    "    tweets[\"user_mentions\"] = tweets[\"Text\"].apply(lambda x: re.findall(r\"@(\\w+)\", x))\n",
    "    return tweets"
   ]
  },
  {
   "cell_type": "code",
   "execution_count": 11,
   "id": "31a65b92",
   "metadata": {},
   "outputs": [],
   "source": [
    "for file in files:\n",
    "    df = pd.read_csv(f\"{file}.csv\")\n",
    "    df, aggdf = sentiment_analysis(df)\n",
    "    df = get_mentions(df)\n",
    "\n",
    "    df.to_csv(f\"{file}_sentiment.csv\")\n",
    "    aggdf.to_csv(f\"{file}_per_user_sentiment.csv\")\n",
    "    aggdf.head(10)"
   ]
  },
  {
   "cell_type": "code",
   "execution_count": null,
   "id": "5e21aac1",
   "metadata": {},
   "outputs": [],
   "source": []
  }
 ],
 "metadata": {
  "kernelspec": {
   "display_name": "Python 3 (ipykernel)",
   "language": "python",
   "name": "python3"
  },
  "language_info": {
   "codemirror_mode": {
    "name": "ipython",
    "version": 3
   },
   "file_extension": ".py",
   "mimetype": "text/x-python",
   "name": "python",
   "nbconvert_exporter": "python",
   "pygments_lexer": "ipython3",
   "version": "3.9.7"
  }
 },
 "nbformat": 4,
 "nbformat_minor": 5
}
